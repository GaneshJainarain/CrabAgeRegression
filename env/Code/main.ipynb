{
 "cells": [
  {
   "cell_type": "markdown",
   "metadata": {},
   "source": [
    "# <font color='#FF4500'>Regression with a Crab Age Dataset</font><a class='anchor' id='top'></a>\n"
   ]
  },
  {
   "cell_type": "markdown",
   "metadata": {},
   "source": [
    "<center>\n",
    "<img src=\"https://media.giphy.com/media/v1.Y2lkPTc5MGI3NjExZGZjNDdhNDkwMDA1ZDZhMTQzZjg1NTg3ZjMwOGJhOGQ2ZThhZjRhNSZlcD12MV9pbnRlcm5hbF9naWZzX2dpZklkJmN0PWc/l4FBcHVO3FVWAp87S/giphy.gif\" width=500>\n",
    "</center>"
   ]
  },
  {
   "cell_type": "markdown",
   "metadata": {},
   "source": [
    "\n",
    "## <font color='#FF45003'>Task: Use Regression with a Crab Age Dataset to determine the age of Crabs <font><a class='anchor' id='top'></a>\n",
    "\n",
    "### <font color='#FF4500'> `Understanding the task`: The task described in the context is \"Crab Age Prediction.\" The goal of this task is to estimate the age of a crab based on its physical attributes. The dataset provided can be used for classical regression analysis, feature engineering, and understanding the impact of feature engineering in the field of Data Science.\n",
    "\n",
    "<font><a class='anchor' id='top'></a>\n",
    "\n",
    "<div class=\"alert alert-block alert-info\"> \n",
    "\n",
    "📌 The ultimate objective is to build a regression model that can accurately predict the age of a crab based on its physical characteristics. This prediction can be valuable for commercial crab farmers as it helps them determine the optimal timing for harvesting the crabs. By harvesting the crabs at the right age, farmers can minimize costs and maximize profits. </div>"
   ]
  },
  {
   "cell_type": "markdown",
   "metadata": {},
   "source": [
    "# <font color='#FF4500'>Table of contents<font><a class='anchor' id='top'></a>\n",
    "\n",
    "- [Regression with a Crab Age Dataset](#1)\n",
    "    - [Task & Understanding the task:](#2)\n",
    "- [Data Understanding I](#3)\n",
    "    - [Data Understanding II](#4)\n",
    "- [Importing Libraries & Data](#6)\n",
    "    - [Load Data Modelling Libraries](#7)\n",
    "- [Making our datasets available in our coding environment](#8)\n",
    "    - [Reading in our csv files and putting them into a dataframe object](#9)\n",
    "- [Data Explorer Class Implementation](#10)"
   ]
  },
  {
   "cell_type": "markdown",
   "metadata": {},
   "source": [
    "# <font color='#FF4500'>Data Understanding I</font><a class='anchor' id='top'></a>\n",
    "\n",
    "- `Sex`: The crab's gender, with \"F\" indicating female, \"M\" indicating male, and \"I\" indicating immature.\n",
    "- `Length`: The measurement of the crab's length.\n",
    "- `Diameter`: The measurement of the crab's diameter.\n",
    "- `Height`: The measurement of the crab's height.\n",
    "- `Weight`: The total weight of the crab.\n",
    "- `Shucked Weight`: The weight of the crab's meat without the shell.\n",
    "- `Viscera Weight`: The weight of the crab's internal organs.\n",
    "- `Shell Weight`: The weight of the crab's shell.\n",
    "- `Age`: The estimated age of the crab.\n"
   ]
  },
  {
   "cell_type": "markdown",
   "metadata": {},
   "source": [
    "# <font color='#FF4500'>Data Understanding II</font><a class='anchor' id='top'></a>\n",
    "\n",
    "There are two datasets, The original dataset and the generated dataset, we will be using both to compare and contrast features etc.\n",
    "\n",
    "`Files`:\n",
    "\n",
    "- `train.csv` - the training dataset; Age is the target\n",
    "\n",
    "- `test.csv` - the test dataset; your objective is to predict the probability of Age (the ground truth is int but you can predict int or float)\n",
    "\n",
    "- `sample_submission.csv` - a sample submission file in the correct format\n",
    "\n",
    "`Files from the original dataset`:\n",
    "\n",
    "- `CrabAgePrediction.csv`"
   ]
  },
  {
   "cell_type": "code",
   "execution_count": 2,
   "metadata": {},
   "outputs": [
    {
     "name": "stdout",
     "output_type": "stream",
     "text": [
      "Python version: 3.8.3 (v3.8.3:6f8c8320e9, May 13 2020, 16:29:34) \n",
      "[Clang 6.0 (clang-600.0.57)]\n",
      "pandas version: 2.0.2\n",
      "matplotlib version: 3.7.1\n",
      "NumPy version: 1.24.3\n",
      "SciPy version: 1.10.1\n",
      "IPython version: 8.12.2\n",
      "scikit-learn version: 1.2.2\n",
      "-------------------------\n"
     ]
    }
   ],
   "source": [
    "#load packages\n",
    "import sys #access to system parameters https://docs.python.org/3/library/sys.html\n",
    "print(\"Python version: {}\". format(sys.version))\n",
    "\n",
    "import pandas as pd #collection of functions for data processing and analysis modeled after R dataframes with SQL like features\n",
    "print(\"pandas version: {}\". format(pd.__version__))\n",
    "\n",
    "import matplotlib #collection of functions for scientific and publication-ready visualization\n",
    "print(\"matplotlib version: {}\". format(matplotlib.__version__))\n",
    "\n",
    "import numpy as np #foundational package for scientific computing\n",
    "print(\"NumPy version: {}\". format(np.__version__))\n",
    "\n",
    "import scipy as sp #collection of functions for scientific computing and advance mathematics\n",
    "print(\"SciPy version: {}\". format(sp.__version__)) \n",
    "\n",
    "import IPython\n",
    "from IPython import display #pretty printing of dataframes in Jupyter notebook\n",
    "from IPython.display import HTML, display\n",
    "print(\"IPython version: {}\". format(IPython.__version__)) \n",
    "\n",
    "import sklearn #collection of machine learning algorithms\n",
    "print(\"scikit-learn version: {}\". format(sklearn.__version__))\n",
    "\n",
    "#misc libraries\n",
    "import random\n",
    "import time\n",
    "\n",
    "#ignore warnings\n",
    "import warnings\n",
    "warnings.filterwarnings('ignore')\n",
    "print('-'*25)"
   ]
  },
  {
   "cell_type": "code",
   "execution_count": 4,
   "metadata": {},
   "outputs": [
    {
     "name": "stdout",
     "output_type": "stream",
     "text": [
      "Seaborn version: 0.12.2\n"
     ]
    }
   ],
   "source": [
    "\n",
    "#Visualization\n",
    "import matplotlib as mpl\n",
    "import matplotlib.pyplot as plt\n",
    "import matplotlib.pylab as pylab\n",
    "import seaborn as sns\n",
    "from pandas.plotting import scatter_matrix\n",
    "\n",
    "#Configure Visualization Defaults\n",
    "#%matplotlib inline = show plots in Jupyter Notebook browser\n",
    "%matplotlib inline\n",
    "mpl.style.use('ggplot')\n",
    "sns.set_style('white')\n",
    "sns.set_style('darkgrid')\n",
    "pylab.rcParams['figure.figsize'] = 12,8\n",
    "print(\"Seaborn version: {}\". format(sns.__version__)) "
   ]
  }
 ],
 "metadata": {
  "kernelspec": {
   "display_name": "Python 3.8.3 ('env': venv)",
   "language": "python",
   "name": "python3"
  },
  "language_info": {
   "codemirror_mode": {
    "name": "ipython",
    "version": 3
   },
   "file_extension": ".py",
   "mimetype": "text/x-python",
   "name": "python",
   "nbconvert_exporter": "python",
   "pygments_lexer": "ipython3",
   "version": "3.8.3"
  },
  "orig_nbformat": 4,
  "vscode": {
   "interpreter": {
    "hash": "edb2f076941a5a078d24d7d6367c833d03f8ff4f97c9593180a0ebd76777c8f1"
   }
  }
 },
 "nbformat": 4,
 "nbformat_minor": 2
}
